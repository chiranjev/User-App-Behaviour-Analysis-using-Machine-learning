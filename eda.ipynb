{
 "cells": [
  {
   "cell_type": "code",
   "execution_count": 375,
   "metadata": {},
   "outputs": [],
   "source": [
    "import pandas as pd\n",
    "import numpy as np\n",
    "import matplotlib.pyplot as plt\n",
    "import seaborn as sns\n",
    "from dateutil import parser"
   ]
  },
  {
   "cell_type": "code",
   "execution_count": 376,
   "metadata": {},
   "outputs": [],
   "source": [
    "dataset = pd.read_csv('dataset/appdata10.csv')"
   ]
  },
  {
   "cell_type": "markdown",
   "metadata": {},
   "source": [
    "## EDA"
   ]
  },
  {
   "cell_type": "code",
   "execution_count": 377,
   "metadata": {},
   "outputs": [
    {
     "name": "stdout",
     "output_type": "stream",
     "text": [
      "     user               first_open  dayofweek       hour  age  \\\n",
      "0  235136  2012-12-27 02:14:51.273          3   02:00:00   23   \n",
      "1  333588  2012-12-02 01:16:00.905          6   01:00:00   24   \n",
      "2  254414  2013-03-19 19:19:09.157          1   19:00:00   23   \n",
      "3  234192  2013-07-05 16:08:46.354          4   16:00:00   28   \n",
      "4   51549  2013-02-26 18:50:48.661          1   18:00:00   31   \n",
      "\n",
      "                                         screen_list  numscreens  minigame  \\\n",
      "0  idscreen,joinscreen,Cycle,product_review,ScanP...          15         0   \n",
      "1  joinscreen,product_review,product_review2,Scan...          13         0   \n",
      "2                                  Splash,Cycle,Loan           3         0   \n",
      "3  product_review,Home,product_review,Loan3,Finan...          40         0   \n",
      "4  idscreen,joinscreen,Cycle,Credit3Container,Sca...          32         0   \n",
      "\n",
      "   used_premium_feature  enrolled            enrolled_date  liked  \n",
      "0                     0         0                      NaN      0  \n",
      "1                     0         0                      NaN      0  \n",
      "2                     1         0                      NaN      1  \n",
      "3                     0         1  2013-07-05 16:11:49.513      0  \n",
      "4                     0         1  2013-02-26 18:56:37.841      1  \n"
     ]
    }
   ],
   "source": [
    "print(dataset.head())"
   ]
  },
  {
   "cell_type": "code",
   "execution_count": 378,
   "metadata": {},
   "outputs": [
    {
     "name": "stdout",
     "output_type": "stream",
     "text": [
      "                user     dayofweek          age    numscreens      minigame  \\\n",
      "count   50000.000000  50000.000000  50000.00000  50000.000000  50000.000000   \n",
      "mean   186889.729900      3.029860     31.72436     21.095900      0.107820   \n",
      "std    107768.520361      2.031997     10.80331     15.728812      0.310156   \n",
      "min        13.000000      0.000000     16.00000      1.000000      0.000000   \n",
      "25%     93526.750000      1.000000     24.00000     10.000000      0.000000   \n",
      "50%    187193.500000      3.000000     29.00000     18.000000      0.000000   \n",
      "75%    279984.250000      5.000000     37.00000     28.000000      0.000000   \n",
      "max    373662.000000      6.000000    101.00000    325.000000      1.000000   \n",
      "\n",
      "       used_premium_feature      enrolled         liked  \n",
      "count          50000.000000  50000.000000  50000.000000  \n",
      "mean               0.172020      0.621480      0.165000  \n",
      "std                0.377402      0.485023      0.371184  \n",
      "min                0.000000      0.000000      0.000000  \n",
      "25%                0.000000      0.000000      0.000000  \n",
      "50%                0.000000      1.000000      0.000000  \n",
      "75%                0.000000      1.000000      0.000000  \n",
      "max                1.000000      1.000000      1.000000  \n"
     ]
    }
   ],
   "source": [
    "print(dataset.describe())"
   ]
  },
  {
   "cell_type": "code",
   "execution_count": 379,
   "metadata": {},
   "outputs": [
    {
     "name": "stdout",
     "output_type": "stream",
     "text": [
      "Index(['user', 'first_open', 'dayofweek', 'hour', 'age', 'screen_list',\n",
      "       'numscreens', 'minigame', 'used_premium_feature', 'enrolled',\n",
      "       'enrolled_date', 'liked'],\n",
      "      dtype='object')\n"
     ]
    }
   ],
   "source": [
    "print(dataset.columns)"
   ]
  },
  {
   "cell_type": "code",
   "execution_count": 380,
   "metadata": {},
   "outputs": [
    {
     "data": {
      "text/plain": [
       "0     02:00:00\n",
       "1     01:00:00\n",
       "2     19:00:00\n",
       "3     16:00:00\n",
       "4     18:00:00\n",
       "Name: hour, dtype: object"
      ]
     },
     "execution_count": 380,
     "metadata": {},
     "output_type": "execute_result"
    }
   ],
   "source": [
    "dataset.hour.head()"
   ]
  },
  {
   "cell_type": "markdown",
   "metadata": {},
   "source": [
    "## Data Cleaning"
   ]
  },
  {
   "cell_type": "code",
   "execution_count": 381,
   "metadata": {},
   "outputs": [],
   "source": [
    "hour_column = dataset['hour'].str.slice(1,3).astype(int)\n",
    "dataset['hour'] = hour_column"
   ]
  },
  {
   "cell_type": "code",
   "execution_count": 382,
   "metadata": {},
   "outputs": [
    {
     "data": {
      "text/plain": [
       "0         2\n",
       "1         1\n",
       "2        19\n",
       "3        16\n",
       "4        18\n",
       "5         9\n",
       "6         2\n",
       "7         3\n",
       "8        14\n",
       "9        18\n",
       "10        4\n",
       "11       11\n",
       "12        6\n",
       "13       19\n",
       "14        4\n",
       "15       18\n",
       "16       16\n",
       "17       21\n",
       "18        5\n",
       "19       17\n",
       "20        9\n",
       "21        4\n",
       "22       17\n",
       "23        2\n",
       "24       20\n",
       "25       18\n",
       "26       16\n",
       "27        1\n",
       "28       11\n",
       "29       17\n",
       "         ..\n",
       "49970    15\n",
       "49971    11\n",
       "49972    15\n",
       "49973    18\n",
       "49974    20\n",
       "49975    18\n",
       "49976    20\n",
       "49977    15\n",
       "49978    17\n",
       "49979    14\n",
       "49980     7\n",
       "49981     4\n",
       "49982     2\n",
       "49983    13\n",
       "49984    16\n",
       "49985    23\n",
       "49986    18\n",
       "49987    19\n",
       "49988     2\n",
       "49989    17\n",
       "49990    17\n",
       "49991    22\n",
       "49992    15\n",
       "49993     2\n",
       "49994    19\n",
       "49995    13\n",
       "49996     0\n",
       "49997    22\n",
       "49998    12\n",
       "49999     1\n",
       "Name: hour, Length: 50000, dtype: int32"
      ]
     },
     "execution_count": 382,
     "metadata": {},
     "output_type": "execute_result"
    }
   ],
   "source": [
    "dataset['hour']"
   ]
  },
  {
   "cell_type": "markdown",
   "metadata": {},
   "source": [
    "## Plotting"
   ]
  },
  {
   "cell_type": "code",
   "execution_count": 383,
   "metadata": {},
   "outputs": [],
   "source": [
    "dataset2 = dataset.copy().drop(columns = ['user','screen_list','enrolled_date','first_open','enrolled'])"
   ]
  },
  {
   "cell_type": "code",
   "execution_count": 384,
   "metadata": {},
   "outputs": [
    {
     "data": {
      "text/html": [
       "<div>\n",
       "<style scoped>\n",
       "    .dataframe tbody tr th:only-of-type {\n",
       "        vertical-align: middle;\n",
       "    }\n",
       "\n",
       "    .dataframe tbody tr th {\n",
       "        vertical-align: top;\n",
       "    }\n",
       "\n",
       "    .dataframe thead th {\n",
       "        text-align: right;\n",
       "    }\n",
       "</style>\n",
       "<table border=\"1\" class=\"dataframe\">\n",
       "  <thead>\n",
       "    <tr style=\"text-align: right;\">\n",
       "      <th></th>\n",
       "      <th>dayofweek</th>\n",
       "      <th>hour</th>\n",
       "      <th>age</th>\n",
       "      <th>numscreens</th>\n",
       "      <th>minigame</th>\n",
       "      <th>used_premium_feature</th>\n",
       "      <th>liked</th>\n",
       "    </tr>\n",
       "  </thead>\n",
       "  <tbody>\n",
       "    <tr>\n",
       "      <th>0</th>\n",
       "      <td>3</td>\n",
       "      <td>2</td>\n",
       "      <td>23</td>\n",
       "      <td>15</td>\n",
       "      <td>0</td>\n",
       "      <td>0</td>\n",
       "      <td>0</td>\n",
       "    </tr>\n",
       "    <tr>\n",
       "      <th>1</th>\n",
       "      <td>6</td>\n",
       "      <td>1</td>\n",
       "      <td>24</td>\n",
       "      <td>13</td>\n",
       "      <td>0</td>\n",
       "      <td>0</td>\n",
       "      <td>0</td>\n",
       "    </tr>\n",
       "    <tr>\n",
       "      <th>2</th>\n",
       "      <td>1</td>\n",
       "      <td>19</td>\n",
       "      <td>23</td>\n",
       "      <td>3</td>\n",
       "      <td>0</td>\n",
       "      <td>1</td>\n",
       "      <td>1</td>\n",
       "    </tr>\n",
       "    <tr>\n",
       "      <th>3</th>\n",
       "      <td>4</td>\n",
       "      <td>16</td>\n",
       "      <td>28</td>\n",
       "      <td>40</td>\n",
       "      <td>0</td>\n",
       "      <td>0</td>\n",
       "      <td>0</td>\n",
       "    </tr>\n",
       "    <tr>\n",
       "      <th>4</th>\n",
       "      <td>1</td>\n",
       "      <td>18</td>\n",
       "      <td>31</td>\n",
       "      <td>32</td>\n",
       "      <td>0</td>\n",
       "      <td>0</td>\n",
       "      <td>1</td>\n",
       "    </tr>\n",
       "  </tbody>\n",
       "</table>\n",
       "</div>"
      ],
      "text/plain": [
       "   dayofweek  hour  age  numscreens  minigame  used_premium_feature  liked\n",
       "0          3     2   23          15         0                     0      0\n",
       "1          6     1   24          13         0                     0      0\n",
       "2          1    19   23           3         0                     1      1\n",
       "3          4    16   28          40         0                     0      0\n",
       "4          1    18   31          32         0                     0      1"
      ]
     },
     "execution_count": 384,
     "metadata": {},
     "output_type": "execute_result"
    }
   ],
   "source": [
    "dataset2.head()"
   ]
  },
  {
   "cell_type": "code",
   "execution_count": 385,
   "metadata": {},
   "outputs": [
    {
     "data": {
      "image/png": "[encoded data removed]",
      "text/plain": [
       "<Figure size 2160x1440 with 7 Axes>"
      ]
     },
     "metadata": {},
     "output_type": "display_data"
    }
   ],
   "source": [
    "# Histogram\n",
    "\n",
    "plt.figure(figsize=(30,20))\n",
    "plt.suptitle('Histogram of numerical columns', fontsize = 40)\n",
    "for i in range(1,dataset2.shape[1]+1):\n",
    "    plt.subplot(3,3,i)\n",
    "    f = plt.gca()\n",
    "    f.set_title(dataset2.columns.values[i-1])\n",
    "    vals = np.size(dataset2.iloc[:,i-1].unique())\n",
    "    plt.hist(dataset2.iloc[:,i-1],bins = vals, color = \"#3F5D7D\")"
   ]
  },
  {
   "cell_type": "code",
   "execution_count": 386,
   "metadata": {},
   "outputs": [
    {
     "data": {
      "text/plain": [
       "<matplotlib.axes._subplots.AxesSubplot at 0x20fe9dd9470>"
      ]
     },
     "execution_count": 386,
     "metadata": {},
     "output_type": "execute_result"
    },
    {
     "data": {
      "image/png": "[encoded data removed]",
      "text/plain": [
       "<Figure size 1440x720 with 1 Axes>"
      ]
     },
     "metadata": {},
     "output_type": "display_data"
    }
   ],
   "source": [
    "# Correlation with Response\n",
    "dataset2.corrwith(dataset.enrolled).plot.bar(figsize=(20,10),\n",
    "                                            title=\"Correlation with Response variable\",\n",
    "                                            fontsize=15,\n",
    "                                            rot=45,\n",
    "                                            grid=True)"
   ]
  },
  {
   "cell_type": "code",
   "execution_count": 387,
   "metadata": {},
   "outputs": [
    {
     "data": {
      "text/plain": [
       "<matplotlib.axes._subplots.AxesSubplot at 0x20ffb91eda0>"
      ]
     },
     "execution_count": 387,
     "metadata": {},
     "output_type": "execute_result"
    },
    {
     "data": {
      "image/png": "[encoded data removed]",
      "text/plain": [
       "<Figure size 1440x720 with 2 Axes>"
      ]
     },
     "metadata": {},
     "output_type": "display_data"
    }
   ],
   "source": [
    "plt.figure(figsize=(20,10))\n",
    "sns.heatmap(dataset2.corr(),annot=True,cmap='magma')"
   ]
  },
  {
   "cell_type": "code",
   "execution_count": 388,
   "metadata": {},
   "outputs": [
    {
     "data": {
      "text/plain": [
       "0                        NaN\n",
       "1                        NaN\n",
       "2                        NaN\n",
       "3    2013-07-05 16:11:49.513\n",
       "4    2013-02-26 18:56:37.841\n",
       "Name: enrolled_date, dtype: object"
      ]
     },
     "execution_count": 388,
     "metadata": {},
     "output_type": "execute_result"
    }
   ],
   "source": [
    "dataset.enrolled_date.head()"
   ]
  },
  {
   "cell_type": "markdown",
   "metadata": {},
   "source": [
    "## Feature Engineering\n"
   ]
  },
  {
   "cell_type": "code",
   "execution_count": 389,
   "metadata": {},
   "outputs": [
    {
     "data": {
      "text/plain": [
       "user                     int64\n",
       "first_open              object\n",
       "dayofweek                int64\n",
       "hour                     int32\n",
       "age                      int64\n",
       "screen_list             object\n",
       "numscreens               int64\n",
       "minigame                 int64\n",
       "used_premium_feature     int64\n",
       "enrolled                 int64\n",
       "enrolled_date           object\n",
       "liked                    int64\n",
       "dtype: object"
      ]
     },
     "execution_count": 389,
     "metadata": {},
     "output_type": "execute_result"
    }
   ],
   "source": [
    "dataset.dtypes"
   ]
  },
  {
   "cell_type": "code",
   "execution_count": 390,
   "metadata": {},
   "outputs": [],
   "source": [
    "# Formatting Date Columns\n",
    "dataset[\"first_open\"] = [parser.parse(row_date) for row_date in dataset[\"first_open\"]]\n",
    "dataset[\"enrolled_date\"] = [parser.parse(row_date) if isinstance(row_date, str) else row_date for row_date in dataset[\"enrolled_date\"]]"
   ]
  },
  {
   "cell_type": "code",
   "execution_count": 391,
   "metadata": {},
   "outputs": [
    {
     "data": {
      "text/plain": [
       "user                             int64\n",
       "first_open              datetime64[ns]\n",
       "dayofweek                        int64\n",
       "hour                             int32\n",
       "age                              int64\n",
       "screen_list                     object\n",
       "numscreens                       int64\n",
       "minigame                         int64\n",
       "used_premium_feature             int64\n",
       "enrolled                         int64\n",
       "enrolled_date           datetime64[ns]\n",
       "liked                            int64\n",
       "dtype: object"
      ]
     },
     "execution_count": 391,
     "metadata": {},
     "output_type": "execute_result"
    }
   ],
   "source": [
    "dataset.dtypes"
   ]
  },
  {
   "cell_type": "markdown",
   "metadata": {},
   "source": [
    "## Selecting Time For Response\n"
   ]
  },
  {
   "cell_type": "code",
   "execution_count": 392,
   "metadata": {},
   "outputs": [
    {
     "data": {
      "image/png": "[encoded data removed]",
      "text/plain": [
       "<Figure size 432x288 with 1 Axes>"
      ]
     },
     "metadata": {},
     "output_type": "display_data"
    }
   ],
   "source": [
    "dataset[\"difference\"] = (dataset.enrolled_date-dataset.first_open).astype('timedelta64[h]')\n",
    "response_hist = plt.hist(dataset[\"difference\"].dropna(), color='#3F5D7D')\n",
    "plt.title('Distribution of Time-Since-Screen-Reached')\n",
    "plt.show()"
   ]
  },
  {
   "cell_type": "code",
   "execution_count": 393,
   "metadata": {},
   "outputs": [
    {
     "data": {
      "image/png": "[encoded data removed]",
      "text/plain": [
       "<Figure size 432x288 with 1 Axes>"
      ]
     },
     "metadata": {},
     "output_type": "display_data"
    }
   ],
   "source": [
    "plt.hist(dataset[\"difference\"].dropna(), color='#3F5D7D', range = [0, 100])\n",
    "plt.title('Distribution of Time-Since-Screen-Reached')\n",
    "plt.show()"
   ]
  },
  {
   "cell_type": "code",
   "execution_count": 394,
   "metadata": {},
   "outputs": [],
   "source": [
    "dataset.loc[dataset.difference > 48, 'enrolled'] = 0\n",
    "dataset = dataset.drop(columns=['enrolled_date', 'difference', 'first_open'])"
   ]
  },
  {
   "cell_type": "markdown",
   "metadata": {},
   "source": [
    "## ## Formatting the screen_list Field"
   ]
  },
  {
   "cell_type": "code",
   "execution_count": 395,
   "metadata": {},
   "outputs": [
    {
     "data": {
      "text/plain": [
       "array(['Loan2', 'location', 'Institutions', 'Credit3Container',\n",
       "       'VerifyPhone', 'BankVerification', 'VerifyDateOfBirth',\n",
       "       'ProfilePage', 'VerifyCountry', 'Cycle', 'idscreen',\n",
       "       'Credit3Dashboard', 'Loan3', 'CC1Category', 'Splash', 'Loan',\n",
       "       'CC1', 'RewardsContainer', 'Credit3', 'Credit1', 'EditProfile',\n",
       "       'Credit2', 'Finances', 'CC3', 'Saving9', 'Saving1', 'Alerts',\n",
       "       'Saving8', 'Saving10', 'Leaderboard', 'Saving4', 'VerifyMobile',\n",
       "       'VerifyHousing', 'RewardDetail', 'VerifyHousingAmount',\n",
       "       'ProfileMaritalStatus', 'ProfileChildren ', 'ProfileEducation',\n",
       "       'Saving7', 'ProfileEducationMajor', 'Rewards', 'AccountView',\n",
       "       'VerifyAnnualIncome', 'VerifyIncomeType', 'Saving2', 'Saving6',\n",
       "       'Saving2Amount', 'Saving5', 'ProfileJobTitle', 'Login',\n",
       "       'ProfileEmploymentLength', 'WebView', 'SecurityModal', 'Loan4',\n",
       "       'ResendToken', 'TransactionList', 'NetworkFailure', 'ListPicker'],\n",
       "      dtype=object)"
      ]
     },
     "execution_count": 395,
     "metadata": {},
     "output_type": "execute_result"
    }
   ],
   "source": [
    "# Load Top Screens\n",
    "top_screens = pd.read_csv('dataset/top_screens.csv').top_screens.values\n",
    "top_screens"
   ]
  },
  {
   "cell_type": "code",
   "execution_count": 396,
   "metadata": {},
   "outputs": [],
   "source": [
    "dataset[\"screen_list\"] = dataset.screen_list.astype(str) + ','"
   ]
  },
  {
   "cell_type": "code",
   "execution_count": 397,
   "metadata": {},
   "outputs": [
    {
     "name": "stdout",
     "output_type": "stream",
     "text": [
      "idscreen,joinscreen,Cycle,product_review,ScanPreview,VerifyDateOfBirth,VerifyPhone,VerifyToken,ProfileVerifySSN,Loan2,Settings,ForgotPassword,Login,\n",
      "joinscreen,product_review,product_review2,ScanPreview,VerifyDateOfBirth,location,VerifyCountry,VerifyPhone,VerifyToken,Institutions,Loan2,\n",
      "Splash,Cycle,Loan,\n"
     ]
    }
   ],
   "source": [
    "for i in range(3):\n",
    "    print(dataset['screen_list'][i])"
   ]
  },
  {
   "cell_type": "code",
   "execution_count": 398,
   "metadata": {},
   "outputs": [],
   "source": [
    "for sc in top_screens:\n",
    "    dataset[sc] = dataset.screen_list.str.contains(sc).astype(int)\n",
    "    dataset['screen_list'] = dataset.screen_list.str.replace(sc+\",\", \"\")\n"
   ]
  },
  {
   "cell_type": "code",
   "execution_count": 399,
   "metadata": {},
   "outputs": [
    {
     "data": {
      "text/plain": [
       "0    joinscreen,product_review,ScanPreview,VerifyTo...\n",
       "1    joinscreen,product_review,product_review2,Scan...\n",
       "2                                                     \n",
       "3    product_review,Home,product_review,ReferralCon...\n",
       "4    joinscreen,ScanPreview,VerifySSN,Home,SelectIn...\n",
       "Name: screen_list, dtype: object"
      ]
     },
     "execution_count": 399,
     "metadata": {},
     "output_type": "execute_result"
    }
   ],
   "source": [
    "dataset['screen_list'].head()"
   ]
  },
  {
   "cell_type": "code",
   "execution_count": 400,
   "metadata": {},
   "outputs": [],
   "source": [
    "dataset['Other'] = dataset.screen_list.str.count(\",\")\n",
    "dataset = dataset.drop(columns=['screen_list'])"
   ]
  },
  {
   "cell_type": "code",
   "execution_count": 401,
   "metadata": {},
   "outputs": [
    {
     "name": "stdout",
     "output_type": "stream",
     "text": [
      "0 0 0 0 0 0 0 0 0 0 \n",
      "0 0 0 0 0 0 0 0 0 0 \n",
      "0 0 0 0 0 0 0 0 0 0 \n",
      "0 0 0 0 0 0 0 0 0 0 \n",
      "0 0 0 0 0 0 0 0 0 0 \n",
      "0 0 0 0 0 0 0 0 0 0 \n",
      "0 0 0 0 0 0 0 0 0 0 \n",
      "0 0 0 0 0 0 0 0 0 0 \n",
      "0 0 0 0 0 0 0 0 0 0 \n",
      "0 0 0 0 0 0 0 0 0 0 \n",
      "0 0 0 0 0 0 0 0 0 0 \n",
      "0 0 0 0 0 0 0 0 0 0 \n",
      "0 0 0 0 0 0 0 0 0 0 \n",
      "0 0 0 0 0 0 0 0 0 0 \n",
      "0 0 0 0 0 0 0 0 0 0 \n",
      "0 0 0 0 0 0 0 0 0 0 \n",
      "0 0 0 0 0 0 0 0 0 0 \n",
      "0 0 0 0 0 0 0 0 0 0 \n",
      "0 0 0 0 0 0 0 0 0 0 \n",
      "0 0 0 0 0 0 0 0 0 0 \n",
      "0 0 0 0 0 0 0 0 0 0 \n",
      "0 0 0 0 0 0 0 0 0 0 \n",
      "0 0 0 0 0 0 0 0 0 0 \n",
      "0 0 0 0 0 0 0 0 0 0 \n",
      "0 0 0 0 0 0 0 0 0 0 \n",
      "0 0 0 0 0 0 0 0 0 0 \n",
      "0 0 0 0 0 0 0 0 0 0 \n",
      "1 0 0 0 0 0 0 0 1 0 \n",
      "0 0 0 0 0 0 0 0 0 0 \n",
      "0 0 0 0 0 0 0 0 0 0 \n"
     ]
    }
   ],
   "source": [
    "savings_screens = [\"Saving1\",\n",
    "                    \"Saving2\",\n",
    "                    \"Saving2Amount\",\n",
    "                    \"Saving4\",\n",
    "                    \"Saving5\",\n",
    "                    \"Saving6\",\n",
    "                    \"Saving7\",\n",
    "                    \"Saving8\",\n",
    "                    \"Saving9\",\n",
    "                    \"Saving10\"]\n",
    "for i in range(30):\n",
    "    for j in range(len(savings_screens)):\n",
    "        print(dataset[savings_screens[j]][i],end=' ')\n",
    "    print()"
   ]
  },
  {
   "cell_type": "code",
   "execution_count": 402,
   "metadata": {},
   "outputs": [],
   "source": [
    "savings_screens = [\"Saving1\",\n",
    "                    \"Saving2\",\n",
    "                    \"Saving2Amount\",\n",
    "                    \"Saving4\",\n",
    "                    \"Saving5\",\n",
    "                    \"Saving6\",\n",
    "                    \"Saving7\",\n",
    "                    \"Saving8\",\n",
    "                    \"Saving9\",\n",
    "                    \"Saving10\"]\n",
    "dataset[\"SavingCount\"] = dataset[savings_screens].sum(axis=1)\n",
    "dataset = dataset.drop(columns=savings_screens)\n"
   ]
  },
  {
   "cell_type": "code",
   "execution_count": 403,
   "metadata": {},
   "outputs": [
    {
     "data": {
      "text/plain": [
       "0        0\n",
       "1        0\n",
       "2        0\n",
       "3        0\n",
       "4        0\n",
       "5        0\n",
       "6        0\n",
       "7        0\n",
       "8        0\n",
       "9        0\n",
       "10       0\n",
       "11       0\n",
       "12       0\n",
       "13       0\n",
       "14       0\n",
       "15       0\n",
       "16       0\n",
       "17       0\n",
       "18       0\n",
       "19       0\n",
       "20       0\n",
       "21       0\n",
       "22       0\n",
       "23       0\n",
       "24       0\n",
       "25       0\n",
       "26       0\n",
       "27       2\n",
       "28       0\n",
       "29       0\n",
       "        ..\n",
       "49970    0\n",
       "49971    0\n",
       "49972    4\n",
       "49973    0\n",
       "49974    0\n",
       "49975    0\n",
       "49976    5\n",
       "49977    0\n",
       "49978    0\n",
       "49979    0\n",
       "49980    0\n",
       "49981    0\n",
       "49982    0\n",
       "49983    0\n",
       "49984    0\n",
       "49985    0\n",
       "49986    0\n",
       "49987    0\n",
       "49988    0\n",
       "49989    0\n",
       "49990    0\n",
       "49991    0\n",
       "49992    0\n",
       "49993    0\n",
       "49994    0\n",
       "49995    0\n",
       "49996    0\n",
       "49997    0\n",
       "49998    0\n",
       "49999    7\n",
       "Name: SavingCount, Length: 50000, dtype: int64"
      ]
     },
     "execution_count": 403,
     "metadata": {},
     "output_type": "execute_result"
    }
   ],
   "source": [
    "dataset['SavingCount']"
   ]
  },
  {
   "cell_type": "code",
   "execution_count": 404,
   "metadata": {},
   "outputs": [],
   "source": [
    "cm_screens = [\"Credit1\",\n",
    "               \"Credit2\",\n",
    "               \"Credit3\",\n",
    "               \"Credit3Container\",\n",
    "               \"Credit3Dashboard\"]\n",
    "dataset[\"CMCount\"] = dataset[cm_screens].sum(axis=1)\n",
    "dataset = dataset.drop(columns=cm_screens)\n",
    "\n",
    "cc_screens = [\"CC1\",\n",
    "                \"CC1Category\",\n",
    "                \"CC3\"]\n",
    "dataset[\"CCCount\"] = dataset[cc_screens].sum(axis=1)\n",
    "dataset = dataset.drop(columns=cc_screens)"
   ]
  },
  {
   "cell_type": "code",
   "execution_count": 405,
   "metadata": {},
   "outputs": [],
   "source": [
    "loan_screens = [\"Loan\",\n",
    "               \"Loan2\",\n",
    "               \"Loan3\",\n",
    "               \"Loan4\"]\n",
    "dataset[\"LoansCount\"] = dataset[loan_screens].sum(axis=1)\n",
    "dataset = dataset.drop(columns=loan_screens)\n"
   ]
  },
  {
   "cell_type": "code",
   "execution_count": 406,
   "metadata": {},
   "outputs": [
    {
     "data": {
      "text/plain": [
       "0        1\n",
       "1        1\n",
       "2        1\n",
       "3        1\n",
       "4        1\n",
       "5        1\n",
       "6        0\n",
       "7        1\n",
       "8        3\n",
       "9        1\n",
       "10       1\n",
       "11       1\n",
       "12       0\n",
       "13       0\n",
       "14       0\n",
       "15       1\n",
       "16       0\n",
       "17       1\n",
       "18       1\n",
       "19       1\n",
       "20       1\n",
       "21       1\n",
       "22       0\n",
       "23       1\n",
       "24       0\n",
       "25       1\n",
       "26       1\n",
       "27       1\n",
       "28       1\n",
       "29       1\n",
       "        ..\n",
       "49970    0\n",
       "49971    1\n",
       "49972    2\n",
       "49973    0\n",
       "49974    1\n",
       "49975    1\n",
       "49976    1\n",
       "49977    2\n",
       "49978    0\n",
       "49979    1\n",
       "49980    0\n",
       "49981    1\n",
       "49982    0\n",
       "49983    1\n",
       "49984    1\n",
       "49985    0\n",
       "49986    1\n",
       "49987    0\n",
       "49988    2\n",
       "49989    0\n",
       "49990    0\n",
       "49991    2\n",
       "49992    1\n",
       "49993    0\n",
       "49994    1\n",
       "49995    0\n",
       "49996    0\n",
       "49997    0\n",
       "49998    0\n",
       "49999    1\n",
       "Name: LoansCount, Length: 50000, dtype: int64"
      ]
     },
     "execution_count": 406,
     "metadata": {},
     "output_type": "execute_result"
    }
   ],
   "source": [
    "dataset['LoansCount']"
   ]
  },
  {
   "cell_type": "code",
   "execution_count": 407,
   "metadata": {},
   "outputs": [
    {
     "data": {
      "text/html": [
       "<div>\n",
       "<style scoped>\n",
       "    .dataframe tbody tr th:only-of-type {\n",
       "        vertical-align: middle;\n",
       "    }\n",
       "\n",
       "    .dataframe tbody tr th {\n",
       "        vertical-align: top;\n",
       "    }\n",
       "\n",
       "    .dataframe thead th {\n",
       "        text-align: right;\n",
       "    }\n",
       "</style>\n",
       "<table border=\"1\" class=\"dataframe\">\n",
       "  <thead>\n",
       "    <tr style=\"text-align: right;\">\n",
       "      <th></th>\n",
       "      <th>user</th>\n",
       "      <th>dayofweek</th>\n",
       "      <th>hour</th>\n",
       "      <th>age</th>\n",
       "      <th>numscreens</th>\n",
       "      <th>minigame</th>\n",
       "      <th>used_premium_feature</th>\n",
       "      <th>enrolled</th>\n",
       "      <th>liked</th>\n",
       "      <th>location</th>\n",
       "      <th>...</th>\n",
       "      <th>SecurityModal</th>\n",
       "      <th>ResendToken</th>\n",
       "      <th>TransactionList</th>\n",
       "      <th>NetworkFailure</th>\n",
       "      <th>ListPicker</th>\n",
       "      <th>Other</th>\n",
       "      <th>SavingCount</th>\n",
       "      <th>CMCount</th>\n",
       "      <th>CCCount</th>\n",
       "      <th>LoansCount</th>\n",
       "    </tr>\n",
       "  </thead>\n",
       "  <tbody>\n",
       "    <tr>\n",
       "      <th>0</th>\n",
       "      <td>235136</td>\n",
       "      <td>3</td>\n",
       "      <td>2</td>\n",
       "      <td>23</td>\n",
       "      <td>15</td>\n",
       "      <td>0</td>\n",
       "      <td>0</td>\n",
       "      <td>0</td>\n",
       "      <td>0</td>\n",
       "      <td>0</td>\n",
       "      <td>...</td>\n",
       "      <td>0</td>\n",
       "      <td>0</td>\n",
       "      <td>0</td>\n",
       "      <td>0</td>\n",
       "      <td>0</td>\n",
       "      <td>7</td>\n",
       "      <td>0</td>\n",
       "      <td>0</td>\n",
       "      <td>0</td>\n",
       "      <td>1</td>\n",
       "    </tr>\n",
       "    <tr>\n",
       "      <th>1</th>\n",
       "      <td>333588</td>\n",
       "      <td>6</td>\n",
       "      <td>1</td>\n",
       "      <td>24</td>\n",
       "      <td>13</td>\n",
       "      <td>0</td>\n",
       "      <td>0</td>\n",
       "      <td>0</td>\n",
       "      <td>0</td>\n",
       "      <td>1</td>\n",
       "      <td>...</td>\n",
       "      <td>0</td>\n",
       "      <td>0</td>\n",
       "      <td>0</td>\n",
       "      <td>0</td>\n",
       "      <td>0</td>\n",
       "      <td>5</td>\n",
       "      <td>0</td>\n",
       "      <td>0</td>\n",
       "      <td>0</td>\n",
       "      <td>1</td>\n",
       "    </tr>\n",
       "    <tr>\n",
       "      <th>2</th>\n",
       "      <td>254414</td>\n",
       "      <td>1</td>\n",
       "      <td>19</td>\n",
       "      <td>23</td>\n",
       "      <td>3</td>\n",
       "      <td>0</td>\n",
       "      <td>1</td>\n",
       "      <td>0</td>\n",
       "      <td>1</td>\n",
       "      <td>0</td>\n",
       "      <td>...</td>\n",
       "      <td>0</td>\n",
       "      <td>0</td>\n",
       "      <td>0</td>\n",
       "      <td>0</td>\n",
       "      <td>0</td>\n",
       "      <td>0</td>\n",
       "      <td>0</td>\n",
       "      <td>0</td>\n",
       "      <td>0</td>\n",
       "      <td>1</td>\n",
       "    </tr>\n",
       "    <tr>\n",
       "      <th>3</th>\n",
       "      <td>234192</td>\n",
       "      <td>4</td>\n",
       "      <td>16</td>\n",
       "      <td>28</td>\n",
       "      <td>40</td>\n",
       "      <td>0</td>\n",
       "      <td>0</td>\n",
       "      <td>1</td>\n",
       "      <td>0</td>\n",
       "      <td>1</td>\n",
       "      <td>...</td>\n",
       "      <td>0</td>\n",
       "      <td>0</td>\n",
       "      <td>0</td>\n",
       "      <td>0</td>\n",
       "      <td>0</td>\n",
       "      <td>6</td>\n",
       "      <td>0</td>\n",
       "      <td>3</td>\n",
       "      <td>0</td>\n",
       "      <td>1</td>\n",
       "    </tr>\n",
       "    <tr>\n",
       "      <th>4</th>\n",
       "      <td>51549</td>\n",
       "      <td>1</td>\n",
       "      <td>18</td>\n",
       "      <td>31</td>\n",
       "      <td>32</td>\n",
       "      <td>0</td>\n",
       "      <td>0</td>\n",
       "      <td>1</td>\n",
       "      <td>1</td>\n",
       "      <td>0</td>\n",
       "      <td>...</td>\n",
       "      <td>0</td>\n",
       "      <td>0</td>\n",
       "      <td>0</td>\n",
       "      <td>0</td>\n",
       "      <td>0</td>\n",
       "      <td>10</td>\n",
       "      <td>0</td>\n",
       "      <td>2</td>\n",
       "      <td>0</td>\n",
       "      <td>1</td>\n",
       "    </tr>\n",
       "  </tbody>\n",
       "</table>\n",
       "<p>5 rows × 50 columns</p>\n",
       "</div>"
      ],
      "text/plain": [
       "     user  dayofweek  hour  age  numscreens  minigame  used_premium_feature  \\\n",
       "0  235136          3     2   23          15         0                     0   \n",
       "1  333588          6     1   24          13         0                     0   \n",
       "2  254414          1    19   23           3         0                     1   \n",
       "3  234192          4    16   28          40         0                     0   \n",
       "4   51549          1    18   31          32         0                     0   \n",
       "\n",
       "   enrolled  liked  location     ...      SecurityModal  ResendToken  \\\n",
       "0         0      0         0     ...                  0            0   \n",
       "1         0      0         1     ...                  0            0   \n",
       "2         0      1         0     ...                  0            0   \n",
       "3         1      0         1     ...                  0            0   \n",
       "4         1      1         0     ...                  0            0   \n",
       "\n",
       "   TransactionList  NetworkFailure  ListPicker  Other  SavingCount  CMCount  \\\n",
       "0                0               0           0      7            0        0   \n",
       "1                0               0           0      5            0        0   \n",
       "2                0               0           0      0            0        0   \n",
       "3                0               0           0      6            0        3   \n",
       "4                0               0           0     10            0        2   \n",
       "\n",
       "   CCCount  LoansCount  \n",
       "0        0           1  \n",
       "1        0           1  \n",
       "2        0           1  \n",
       "3        0           1  \n",
       "4        0           1  \n",
       "\n",
       "[5 rows x 50 columns]"
      ]
     },
     "execution_count": 407,
     "metadata": {},
     "output_type": "execute_result"
    }
   ],
   "source": [
    "dataset.head()"
   ]
  },
  {
   "cell_type": "code",
   "execution_count": 408,
   "metadata": {},
   "outputs": [
    {
     "data": {
      "text/html": [
       "<div>\n",
       "<style scoped>\n",
       "    .dataframe tbody tr th:only-of-type {\n",
       "        vertical-align: middle;\n",
       "    }\n",
       "\n",
       "    .dataframe tbody tr th {\n",
       "        vertical-align: top;\n",
       "    }\n",
       "\n",
       "    .dataframe thead th {\n",
       "        text-align: right;\n",
       "    }\n",
       "</style>\n",
       "<table border=\"1\" class=\"dataframe\">\n",
       "  <thead>\n",
       "    <tr style=\"text-align: right;\">\n",
       "      <th></th>\n",
       "      <th>user</th>\n",
       "      <th>dayofweek</th>\n",
       "      <th>hour</th>\n",
       "      <th>age</th>\n",
       "      <th>numscreens</th>\n",
       "      <th>minigame</th>\n",
       "      <th>used_premium_feature</th>\n",
       "      <th>enrolled</th>\n",
       "      <th>liked</th>\n",
       "      <th>location</th>\n",
       "      <th>...</th>\n",
       "      <th>SecurityModal</th>\n",
       "      <th>ResendToken</th>\n",
       "      <th>TransactionList</th>\n",
       "      <th>NetworkFailure</th>\n",
       "      <th>ListPicker</th>\n",
       "      <th>Other</th>\n",
       "      <th>SavingCount</th>\n",
       "      <th>CMCount</th>\n",
       "      <th>CCCount</th>\n",
       "      <th>LoansCount</th>\n",
       "    </tr>\n",
       "  </thead>\n",
       "  <tbody>\n",
       "    <tr>\n",
       "      <th>count</th>\n",
       "      <td>50000.000000</td>\n",
       "      <td>50000.000000</td>\n",
       "      <td>50000.000000</td>\n",
       "      <td>50000.00000</td>\n",
       "      <td>50000.000000</td>\n",
       "      <td>50000.000000</td>\n",
       "      <td>50000.000000</td>\n",
       "      <td>50000.000000</td>\n",
       "      <td>50000.000000</td>\n",
       "      <td>50000.000000</td>\n",
       "      <td>...</td>\n",
       "      <td>50000.000000</td>\n",
       "      <td>50000.000000</td>\n",
       "      <td>50000.000000</td>\n",
       "      <td>50000.000000</td>\n",
       "      <td>50000.000000</td>\n",
       "      <td>50000.000000</td>\n",
       "      <td>50000.000000</td>\n",
       "      <td>50000.00000</td>\n",
       "      <td>50000.000000</td>\n",
       "      <td>50000.000000</td>\n",
       "    </tr>\n",
       "    <tr>\n",
       "      <th>mean</th>\n",
       "      <td>186889.729900</td>\n",
       "      <td>3.029860</td>\n",
       "      <td>12.557220</td>\n",
       "      <td>31.72436</td>\n",
       "      <td>21.095900</td>\n",
       "      <td>0.107820</td>\n",
       "      <td>0.172020</td>\n",
       "      <td>0.497000</td>\n",
       "      <td>0.165000</td>\n",
       "      <td>0.517760</td>\n",
       "      <td>...</td>\n",
       "      <td>0.014220</td>\n",
       "      <td>0.013340</td>\n",
       "      <td>0.013400</td>\n",
       "      <td>0.008200</td>\n",
       "      <td>0.007580</td>\n",
       "      <td>6.214260</td>\n",
       "      <td>0.365020</td>\n",
       "      <td>0.92776</td>\n",
       "      <td>0.176860</td>\n",
       "      <td>0.788400</td>\n",
       "    </tr>\n",
       "    <tr>\n",
       "      <th>std</th>\n",
       "      <td>107768.520361</td>\n",
       "      <td>2.031997</td>\n",
       "      <td>7.438072</td>\n",
       "      <td>10.80331</td>\n",
       "      <td>15.728812</td>\n",
       "      <td>0.310156</td>\n",
       "      <td>0.377402</td>\n",
       "      <td>0.499996</td>\n",
       "      <td>0.371184</td>\n",
       "      <td>0.499689</td>\n",
       "      <td>...</td>\n",
       "      <td>0.118398</td>\n",
       "      <td>0.114727</td>\n",
       "      <td>0.114981</td>\n",
       "      <td>0.090183</td>\n",
       "      <td>0.086733</td>\n",
       "      <td>3.672561</td>\n",
       "      <td>1.405511</td>\n",
       "      <td>1.21751</td>\n",
       "      <td>0.612787</td>\n",
       "      <td>0.677462</td>\n",
       "    </tr>\n",
       "    <tr>\n",
       "      <th>min</th>\n",
       "      <td>13.000000</td>\n",
       "      <td>0.000000</td>\n",
       "      <td>0.000000</td>\n",
       "      <td>16.00000</td>\n",
       "      <td>1.000000</td>\n",
       "      <td>0.000000</td>\n",
       "      <td>0.000000</td>\n",
       "      <td>0.000000</td>\n",
       "      <td>0.000000</td>\n",
       "      <td>0.000000</td>\n",
       "      <td>...</td>\n",
       "      <td>0.000000</td>\n",
       "      <td>0.000000</td>\n",
       "      <td>0.000000</td>\n",
       "      <td>0.000000</td>\n",
       "      <td>0.000000</td>\n",
       "      <td>0.000000</td>\n",
       "      <td>0.000000</td>\n",
       "      <td>0.00000</td>\n",
       "      <td>0.000000</td>\n",
       "      <td>0.000000</td>\n",
       "    </tr>\n",
       "    <tr>\n",
       "      <th>25%</th>\n",
       "      <td>93526.750000</td>\n",
       "      <td>1.000000</td>\n",
       "      <td>5.000000</td>\n",
       "      <td>24.00000</td>\n",
       "      <td>10.000000</td>\n",
       "      <td>0.000000</td>\n",
       "      <td>0.000000</td>\n",
       "      <td>0.000000</td>\n",
       "      <td>0.000000</td>\n",
       "      <td>0.000000</td>\n",
       "      <td>...</td>\n",
       "      <td>0.000000</td>\n",
       "      <td>0.000000</td>\n",
       "      <td>0.000000</td>\n",
       "      <td>0.000000</td>\n",
       "      <td>0.000000</td>\n",
       "      <td>3.000000</td>\n",
       "      <td>0.000000</td>\n",
       "      <td>0.00000</td>\n",
       "      <td>0.000000</td>\n",
       "      <td>0.000000</td>\n",
       "    </tr>\n",
       "    <tr>\n",
       "      <th>50%</th>\n",
       "      <td>187193.500000</td>\n",
       "      <td>3.000000</td>\n",
       "      <td>14.000000</td>\n",
       "      <td>29.00000</td>\n",
       "      <td>18.000000</td>\n",
       "      <td>0.000000</td>\n",
       "      <td>0.000000</td>\n",
       "      <td>0.000000</td>\n",
       "      <td>0.000000</td>\n",
       "      <td>1.000000</td>\n",
       "      <td>...</td>\n",
       "      <td>0.000000</td>\n",
       "      <td>0.000000</td>\n",
       "      <td>0.000000</td>\n",
       "      <td>0.000000</td>\n",
       "      <td>0.000000</td>\n",
       "      <td>6.000000</td>\n",
       "      <td>0.000000</td>\n",
       "      <td>0.00000</td>\n",
       "      <td>0.000000</td>\n",
       "      <td>1.000000</td>\n",
       "    </tr>\n",
       "    <tr>\n",
       "      <th>75%</th>\n",
       "      <td>279984.250000</td>\n",
       "      <td>5.000000</td>\n",
       "      <td>19.000000</td>\n",
       "      <td>37.00000</td>\n",
       "      <td>28.000000</td>\n",
       "      <td>0.000000</td>\n",
       "      <td>0.000000</td>\n",
       "      <td>1.000000</td>\n",
       "      <td>0.000000</td>\n",
       "      <td>1.000000</td>\n",
       "      <td>...</td>\n",
       "      <td>0.000000</td>\n",
       "      <td>0.000000</td>\n",
       "      <td>0.000000</td>\n",
       "      <td>0.000000</td>\n",
       "      <td>0.000000</td>\n",
       "      <td>8.000000</td>\n",
       "      <td>0.000000</td>\n",
       "      <td>1.00000</td>\n",
       "      <td>0.000000</td>\n",
       "      <td>1.000000</td>\n",
       "    </tr>\n",
       "    <tr>\n",
       "      <th>max</th>\n",
       "      <td>373662.000000</td>\n",
       "      <td>6.000000</td>\n",
       "      <td>23.000000</td>\n",
       "      <td>101.00000</td>\n",
       "      <td>325.000000</td>\n",
       "      <td>1.000000</td>\n",
       "      <td>1.000000</td>\n",
       "      <td>1.000000</td>\n",
       "      <td>1.000000</td>\n",
       "      <td>1.000000</td>\n",
       "      <td>...</td>\n",
       "      <td>1.000000</td>\n",
       "      <td>1.000000</td>\n",
       "      <td>1.000000</td>\n",
       "      <td>1.000000</td>\n",
       "      <td>1.000000</td>\n",
       "      <td>35.000000</td>\n",
       "      <td>10.000000</td>\n",
       "      <td>5.00000</td>\n",
       "      <td>3.000000</td>\n",
       "      <td>3.000000</td>\n",
       "    </tr>\n",
       "  </tbody>\n",
       "</table>\n",
       "<p>8 rows × 50 columns</p>\n",
       "</div>"
      ],
      "text/plain": [
       "                user     dayofweek          hour          age    numscreens  \\\n",
       "count   50000.000000  50000.000000  50000.000000  50000.00000  50000.000000   \n",
       "mean   186889.729900      3.029860     12.557220     31.72436     21.095900   \n",
       "std    107768.520361      2.031997      7.438072     10.80331     15.728812   \n",
       "min        13.000000      0.000000      0.000000     16.00000      1.000000   \n",
       "25%     93526.750000      1.000000      5.000000     24.00000     10.000000   \n",
       "50%    187193.500000      3.000000     14.000000     29.00000     18.000000   \n",
       "75%    279984.250000      5.000000     19.000000     37.00000     28.000000   \n",
       "max    373662.000000      6.000000     23.000000    101.00000    325.000000   \n",
       "\n",
       "           minigame  used_premium_feature      enrolled         liked  \\\n",
       "count  50000.000000          50000.000000  50000.000000  50000.000000   \n",
       "mean       0.107820              0.172020      0.497000      0.165000   \n",
       "std        0.310156              0.377402      0.499996      0.371184   \n",
       "min        0.000000              0.000000      0.000000      0.000000   \n",
       "25%        0.000000              0.000000      0.000000      0.000000   \n",
       "50%        0.000000              0.000000      0.000000      0.000000   \n",
       "75%        0.000000              0.000000      1.000000      0.000000   \n",
       "max        1.000000              1.000000      1.000000      1.000000   \n",
       "\n",
       "           location      ...       SecurityModal   ResendToken  \\\n",
       "count  50000.000000      ...        50000.000000  50000.000000   \n",
       "mean       0.517760      ...            0.014220      0.013340   \n",
       "std        0.499689      ...            0.118398      0.114727   \n",
       "min        0.000000      ...            0.000000      0.000000   \n",
       "25%        0.000000      ...            0.000000      0.000000   \n",
       "50%        1.000000      ...            0.000000      0.000000   \n",
       "75%        1.000000      ...            0.000000      0.000000   \n",
       "max        1.000000      ...            1.000000      1.000000   \n",
       "\n",
       "       TransactionList  NetworkFailure    ListPicker         Other  \\\n",
       "count     50000.000000    50000.000000  50000.000000  50000.000000   \n",
       "mean          0.013400        0.008200      0.007580      6.214260   \n",
       "std           0.114981        0.090183      0.086733      3.672561   \n",
       "min           0.000000        0.000000      0.000000      0.000000   \n",
       "25%           0.000000        0.000000      0.000000      3.000000   \n",
       "50%           0.000000        0.000000      0.000000      6.000000   \n",
       "75%           0.000000        0.000000      0.000000      8.000000   \n",
       "max           1.000000        1.000000      1.000000     35.000000   \n",
       "\n",
       "        SavingCount      CMCount       CCCount    LoansCount  \n",
       "count  50000.000000  50000.00000  50000.000000  50000.000000  \n",
       "mean       0.365020      0.92776      0.176860      0.788400  \n",
       "std        1.405511      1.21751      0.612787      0.677462  \n",
       "min        0.000000      0.00000      0.000000      0.000000  \n",
       "25%        0.000000      0.00000      0.000000      0.000000  \n",
       "50%        0.000000      0.00000      0.000000      1.000000  \n",
       "75%        0.000000      1.00000      0.000000      1.000000  \n",
       "max       10.000000      5.00000      3.000000      3.000000  \n",
       "\n",
       "[8 rows x 50 columns]"
      ]
     },
     "execution_count": 408,
     "metadata": {},
     "output_type": "execute_result"
    }
   ],
   "source": [
    "dataset.describe()"
   ]
  },
  {
   "cell_type": "code",
   "execution_count": 409,
   "metadata": {},
   "outputs": [
    {
     "data": {
      "text/plain": [
       "Index(['user', 'dayofweek', 'hour', 'age', 'numscreens', 'minigame',\n",
       "       'used_premium_feature', 'enrolled', 'liked', 'location', 'Institutions',\n",
       "       'VerifyPhone', 'BankVerification', 'VerifyDateOfBirth', 'ProfilePage',\n",
       "       'VerifyCountry', 'Cycle', 'idscreen', 'Splash', 'RewardsContainer',\n",
       "       'EditProfile', 'Finances', 'Alerts', 'Leaderboard', 'VerifyMobile',\n",
       "       'VerifyHousing', 'RewardDetail', 'VerifyHousingAmount',\n",
       "       'ProfileMaritalStatus', 'ProfileChildren ', 'ProfileEducation',\n",
       "       'ProfileEducationMajor', 'Rewards', 'AccountView', 'VerifyAnnualIncome',\n",
       "       'VerifyIncomeType', 'ProfileJobTitle', 'Login',\n",
       "       'ProfileEmploymentLength', 'WebView', 'SecurityModal', 'ResendToken',\n",
       "       'TransactionList', 'NetworkFailure', 'ListPicker', 'Other',\n",
       "       'SavingCount', 'CMCount', 'CCCount', 'LoansCount'],\n",
       "      dtype='object')"
      ]
     },
     "execution_count": 409,
     "metadata": {},
     "output_type": "execute_result"
    }
   ],
   "source": [
    "dataset.columns"
   ]
  },
  {
   "cell_type": "code",
   "execution_count": 441,
   "metadata": {},
   "outputs": [],
   "source": [
    "dataset.to_csv('dataset/new_appdata10.csv', index = False)"
   ]
  },
  {
   "cell_type": "code",
   "execution_count": null,
   "metadata": {},
   "outputs": [],
   "source": []
  },
  {
   "cell_type": "code",
   "execution_count": null,
   "metadata": {},
   "outputs": [],
   "source": []
  },
  {
   "cell_type": "code",
   "execution_count": null,
   "metadata": {},
   "outputs": [],
   "source": []
  }
 ],
 "metadata": {
  "kernelspec": {
   "display_name": "Python 3",
   "language": "python",
   "name": "python3"
  },
  "language_info": {
   "codemirror_mode": {
    "name": "ipython",
    "version": 3
   },
   "file_extension": ".py",
   "mimetype": "text/x-python",
   "name": "python",
   "nbconvert_exporter": "python",
   "pygments_lexer": "ipython3",
   "version": "3.6.5"
  }
 },
 "nbformat": 4,
 "nbformat_minor": 2
}
